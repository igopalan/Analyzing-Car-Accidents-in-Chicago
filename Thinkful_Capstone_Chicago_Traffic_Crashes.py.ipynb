{
 "cells": [
  {
   "cell_type": "code",
   "execution_count": 1,
   "metadata": {},
   "outputs": [],
   "source": [
    "import pandas as pd\n",
    "import numpy as np\n",
    "import scipy\n",
    "import matplotlib.pyplot as plt\n",
    "%matplotlib inline\n",
    "pd.set_option('display.max_columns', 680)\n",
    "from sklearn import ensemble\n",
    "from sklearn import datasets\n",
    "from sklearn.utils import shuffle\n",
    "from sklearn.metrics import mean_squared_error"
   ]
  },
  {
   "cell_type": "code",
   "execution_count": 2,
   "metadata": {},
   "outputs": [
    {
     "name": "stderr",
     "output_type": "stream",
     "text": [
      "C:\\Users\\ilang\\Anaconda3\\lib\\site-packages\\IPython\\core\\interactiveshell.py:3020: DtypeWarning: Columns (10) have mixed types. Specify dtype option on import or set low_memory=False.\n",
      "  interactivity=interactivity, compiler=compiler, result=result)\n"
     ]
    }
   ],
   "source": [
    "chicago = pd.read_csv((\"Chicago_Traffic_Crashes_-_Crashes.csv\"))"
   ]
  },
  {
   "cell_type": "code",
   "execution_count": 3,
   "metadata": {},
   "outputs": [
    {
     "name": "stdout",
     "output_type": "stream",
     "text": [
      "<class 'pandas.core.frame.DataFrame'>\n",
      "RangeIndex: 358035 entries, 0 to 358034\n",
      "Data columns (total 48 columns):\n",
      "RD_NO                            358035 non-null object\n",
      "CRASH_DATE_EST_I                 26674 non-null object\n",
      "CRASH_DATE                       358035 non-null object\n",
      "POSTED_SPEED_LIMIT               358035 non-null int64\n",
      "TRAFFIC_CONTROL_DEVICE           358035 non-null object\n",
      "DEVICE_CONDITION                 358035 non-null object\n",
      "WEATHER_CONDITION                358035 non-null object\n",
      "LIGHTING_CONDITION               358035 non-null object\n",
      "FIRST_CRASH_TYPE                 358035 non-null object\n",
      "TRAFFICWAY_TYPE                  358035 non-null object\n",
      "LANE_CNT                         198545 non-null object\n",
      "ALIGNMENT                        358035 non-null object\n",
      "ROADWAY_SURFACE_COND             358035 non-null object\n",
      "ROAD_DEFECT                      358035 non-null object\n",
      "REPORT_TYPE                      349860 non-null object\n",
      "CRASH_TYPE                       358035 non-null object\n",
      "INTERSECTION_RELATED_I           78629 non-null object\n",
      "NOT_RIGHT_OF_WAY_I               16561 non-null object\n",
      "HIT_AND_RUN_I                    99263 non-null object\n",
      "DAMAGE                           358035 non-null object\n",
      "DATE_POLICE_NOTIFIED             358035 non-null object\n",
      "PRIM_CONTRIBUTORY_CAUSE          358035 non-null object\n",
      "SEC_CONTRIBUTORY_CAUSE           358035 non-null object\n",
      "STREET_NO                        358035 non-null int64\n",
      "STREET_DIRECTION                 358033 non-null object\n",
      "STREET_NAME                      358034 non-null object\n",
      "BEAT_OF_OCCURRENCE               358031 non-null float64\n",
      "PHOTOS_TAKEN_I                   4570 non-null object\n",
      "STATEMENTS_TAKEN_I               7289 non-null object\n",
      "DOORING_I                        1234 non-null object\n",
      "WORK_ZONE_I                      2579 non-null object\n",
      "WORK_ZONE_TYPE                   2052 non-null object\n",
      "WORKERS_PRESENT_I                600 non-null object\n",
      "NUM_UNITS                        356772 non-null float64\n",
      "MOST_SEVERE_INJURY               356049 non-null object\n",
      "INJURIES_TOTAL                   356056 non-null float64\n",
      "INJURIES_FATAL                   356056 non-null float64\n",
      "INJURIES_INCAPACITATING          356056 non-null float64\n",
      "INJURIES_NON_INCAPACITATING      356056 non-null float64\n",
      "INJURIES_REPORTED_NOT_EVIDENT    356056 non-null float64\n",
      "INJURIES_NO_INDICATION           356056 non-null float64\n",
      "INJURIES_UNKNOWN                 356056 non-null float64\n",
      "CRASH_HOUR                       358035 non-null int64\n",
      "CRASH_DAY_OF_WEEK                358035 non-null int64\n",
      "CRASH_MONTH                      358035 non-null int64\n",
      "LATITUDE                         356202 non-null float64\n",
      "LONGITUDE                        356202 non-null float64\n",
      "LOCATION                         356202 non-null object\n",
      "dtypes: float64(11), int64(5), object(32)\n",
      "memory usage: 131.1+ MB\n"
     ]
    }
   ],
   "source": [
    "chicago.info()"
   ]
  },
  {
   "cell_type": "code",
   "execution_count": null,
   "metadata": {},
   "outputs": [],
   "source": []
  },
  {
   "cell_type": "markdown",
   "metadata": {},
   "source": [
    "# Basic Exploration"
   ]
  },
  {
   "cell_type": "code",
   "execution_count": 4,
   "metadata": {},
   "outputs": [
    {
     "data": {
      "text/plain": [
       "NO INJURY / DRIVE AWAY              277114\n",
       "INJURY AND / OR TOW DUE TO CRASH     80921\n",
       "Name: CRASH_TYPE, dtype: int64"
      ]
     },
     "execution_count": 4,
     "metadata": {},
     "output_type": "execute_result"
    }
   ],
   "source": [
    "chicago.CRASH_TYPE.value_counts()"
   ]
  },
  {
   "cell_type": "code",
   "execution_count": 5,
   "metadata": {},
   "outputs": [
    {
     "data": {
      "text/plain": [
       "OVER $1,500      201348\n",
       "$501 - $1,500    108499\n",
       "$500 OR LESS      48188\n",
       "Name: DAMAGE, dtype: int64"
      ]
     },
     "execution_count": 5,
     "metadata": {},
     "output_type": "execute_result"
    }
   ],
   "source": [
    "chicago.DAMAGE.value_counts()"
   ]
  },
  {
   "cell_type": "code",
   "execution_count": 6,
   "metadata": {},
   "outputs": [
    {
     "data": {
      "text/plain": [
       "DRY                268289\n",
       "WET                 50234\n",
       "UNKNOWN             23392\n",
       "SNOW OR SLUSH       12406\n",
       "ICE                  2696\n",
       "OTHER                 840\n",
       "SAND, MUD, DIRT       178\n",
       "Name: ROADWAY_SURFACE_COND, dtype: int64"
      ]
     },
     "execution_count": 6,
     "metadata": {},
     "output_type": "execute_result"
    }
   ],
   "source": [
    "chicago.ROADWAY_SURFACE_COND.value_counts()"
   ]
  },
  {
   "cell_type": "code",
   "execution_count": 7,
   "metadata": {},
   "outputs": [
    {
     "data": {
      "text/plain": [
       "CLEAR                     283026\n",
       "RAIN                       33500\n",
       "UNKNOWN                    15400\n",
       "SNOW                       12680\n",
       "CLOUDY/OVERCAST            10829\n",
       "OTHER                       1120\n",
       "FOG/SMOKE/HAZE               673\n",
       "SLEET/HAIL                   582\n",
       "FREEZING RAIN/DRIZZLE        136\n",
       "SEVERE CROSS WIND GATE        77\n",
       "BLOWING SNOW                  12\n",
       "Name: WEATHER_CONDITION, dtype: int64"
      ]
     },
     "execution_count": 7,
     "metadata": {},
     "output_type": "execute_result"
    }
   ],
   "source": [
    "chicago.WEATHER_CONDITION.value_counts()"
   ]
  },
  {
   "cell_type": "code",
   "execution_count": 8,
   "metadata": {},
   "outputs": [
    {
     "data": {
      "text/plain": [
       "Y    2052\n",
       "N     527\n",
       "Name: WORK_ZONE_I, dtype: int64"
      ]
     },
     "execution_count": 8,
     "metadata": {},
     "output_type": "execute_result"
    }
   ],
   "source": [
    "chicago.WORK_ZONE_I.value_counts()"
   ]
  },
  {
   "cell_type": "code",
   "execution_count": 9,
   "metadata": {},
   "outputs": [
    {
     "data": {
      "text/plain": [
       "CONSTRUCTION    1466\n",
       "UNKNOWN          269\n",
       "MAINTENANCE      202\n",
       "UTILITY          115\n",
       "Name: WORK_ZONE_TYPE, dtype: int64"
      ]
     },
     "execution_count": 9,
     "metadata": {},
     "output_type": "execute_result"
    }
   ],
   "source": [
    "chicago.WORK_ZONE_TYPE.value_counts()"
   ]
  },
  {
   "cell_type": "code",
   "execution_count": 10,
   "metadata": {},
   "outputs": [
    {
     "data": {
      "text/plain": [
       "Y    540\n",
       "N     60\n",
       "Name: WORKERS_PRESENT_I, dtype: int64"
      ]
     },
     "execution_count": 10,
     "metadata": {},
     "output_type": "execute_result"
    }
   ],
   "source": [
    "chicago.WORKERS_PRESENT_I.value_counts()"
   ]
  },
  {
   "cell_type": "code",
   "execution_count": 11,
   "metadata": {},
   "outputs": [
    {
     "data": {
      "text/plain": [
       "Index(['RD_NO', 'CRASH_DATE_EST_I', 'CRASH_DATE', 'POSTED_SPEED_LIMIT',\n",
       "       'TRAFFIC_CONTROL_DEVICE', 'DEVICE_CONDITION', 'WEATHER_CONDITION',\n",
       "       'LIGHTING_CONDITION', 'FIRST_CRASH_TYPE', 'TRAFFICWAY_TYPE', 'LANE_CNT',\n",
       "       'ALIGNMENT', 'ROADWAY_SURFACE_COND', 'ROAD_DEFECT', 'REPORT_TYPE',\n",
       "       'CRASH_TYPE', 'INTERSECTION_RELATED_I', 'NOT_RIGHT_OF_WAY_I',\n",
       "       'HIT_AND_RUN_I', 'DAMAGE', 'DATE_POLICE_NOTIFIED',\n",
       "       'PRIM_CONTRIBUTORY_CAUSE', 'SEC_CONTRIBUTORY_CAUSE', 'STREET_NO',\n",
       "       'STREET_DIRECTION', 'STREET_NAME', 'BEAT_OF_OCCURRENCE',\n",
       "       'PHOTOS_TAKEN_I', 'STATEMENTS_TAKEN_I', 'DOORING_I', 'WORK_ZONE_I',\n",
       "       'WORK_ZONE_TYPE', 'WORKERS_PRESENT_I', 'NUM_UNITS',\n",
       "       'MOST_SEVERE_INJURY', 'INJURIES_TOTAL', 'INJURIES_FATAL',\n",
       "       'INJURIES_INCAPACITATING', 'INJURIES_NON_INCAPACITATING',\n",
       "       'INJURIES_REPORTED_NOT_EVIDENT', 'INJURIES_NO_INDICATION',\n",
       "       'INJURIES_UNKNOWN', 'CRASH_HOUR', 'CRASH_DAY_OF_WEEK', 'CRASH_MONTH',\n",
       "       'LATITUDE', 'LONGITUDE', 'LOCATION'],\n",
       "      dtype='object')"
      ]
     },
     "execution_count": 11,
     "metadata": {},
     "output_type": "execute_result"
    }
   ],
   "source": [
    "chicago.columns"
   ]
  },
  {
   "cell_type": "markdown",
   "metadata": {},
   "source": [
    "# Data Cleaning\n",
    "\n",
    "**Columns Dropped** - included administrative police notes, Lat/Long Location, and other features where the majority of values were **Nan**\n",
    "\n",
    "**NaN Values**  - DOORING_I, if an accident didn't involving opening a door into a bicyclist, then the value should be NO rather than NaN, and was converted.  Applied this to several other columns where NaN should be No.  For numerical columns, NaN was changed to **0**  \n",
    "\n",
    "**Outliers** - Included POSTED_SPEED_LIMIT, where values did not match Chicago speed limits of 15/20/25/35/45/55/65/70.  Values were changed to the nearest speed limit.  \n"
   ]
  },
  {
   "cell_type": "code",
   "execution_count": 12,
   "metadata": {},
   "outputs": [],
   "source": [
    "to_drop = ['RD_NO', \n",
    "           'CRASH_DATE_EST_I',\n",
    "           'REPORT_TYPE', \n",
    "           'DATE_POLICE_NOTIFIED',\n",
    "           'DATE_POLICE_NOTIFIED', \n",
    "           'PHOTOS_TAKEN_I', \n",
    "           'STATEMENTS_TAKEN_I', \n",
    "           'LATITUDE',\n",
    "           'LONGITUDE', \n",
    "           'LOCATION', \n",
    "           'WORK_ZONE_I', \n",
    "           'WORK_ZONE_TYPE', \n",
    "           'WORKERS_PRESENT_I', \n",
    "           'LANE_CNT', \n",
    "           'INJURIES_UNKNOWN']\n",
    "\n",
    "chicago.drop(to_drop, inplace=True, axis=1)\n",
    "\n"
   ]
  },
  {
   "cell_type": "code",
   "execution_count": 13,
   "metadata": {},
   "outputs": [
    {
     "data": {
      "text/plain": [
       "array([45, 30, 25, 20, 10, 35, 15, 40,  0,  5, 55, 39,  9,  6,  3,  1, 50,\n",
       "       60, 99, 65, 38, 18, 32,  2, 33, 12,  7, 63, 16, 34, 26,  4, 24, 23,\n",
       "       70, 36, 22, 14, 11], dtype=int64)"
      ]
     },
     "execution_count": 13,
     "metadata": {},
     "output_type": "execute_result"
    }
   ],
   "source": [
    "chicago.POSTED_SPEED_LIMIT.unique()"
   ]
  },
  {
   "cell_type": "code",
   "execution_count": 14,
   "metadata": {},
   "outputs": [],
   "source": [
    "chicago.POSTED_SPEED_LIMIT.replace([0,1,2,3,4,5,6,7,8,9,10,11,12,13,14], 15, inplace=True) \n",
    "#Replacing all speed limit values <15 miles with 15"
   ]
  },
  {
   "cell_type": "code",
   "execution_count": 15,
   "metadata": {},
   "outputs": [],
   "source": [
    "chicago.POSTED_SPEED_LIMIT.replace([16,18], 20, inplace=True)\n",
    "chicago.POSTED_SPEED_LIMIT.replace([22,23,24], 25, inplace=True)\n",
    "chicago.POSTED_SPEED_LIMIT.replace([26], 30, inplace=True)\n",
    "chicago.POSTED_SPEED_LIMIT.replace([32,33,34], 35, inplace=True)\n",
    "chicago.POSTED_SPEED_LIMIT.replace([36,38,39,40], 45, inplace=True)\n",
    "chicago.POSTED_SPEED_LIMIT.replace([16,18], 20, inplace=True)\n",
    "chicago.POSTED_SPEED_LIMIT.replace([50], 55, inplace=True)\n",
    "chicago.POSTED_SPEED_LIMIT.replace([16,18], 20, inplace=True)\n",
    "chicago.POSTED_SPEED_LIMIT.replace([60,63], 65, inplace=True)\n",
    "chicago.POSTED_SPEED_LIMIT.replace([99], 70, inplace=True)"
   ]
  },
  {
   "cell_type": "code",
   "execution_count": 16,
   "metadata": {},
   "outputs": [
    {
     "data": {
      "text/plain": [
       "30    264421\n",
       "15     28699\n",
       "35     24293\n",
       "25     21242\n",
       "20     13508\n",
       "45      5367\n",
       "55       406\n",
       "70        69\n",
       "65        30\n",
       "Name: POSTED_SPEED_LIMIT, dtype: int64"
      ]
     },
     "execution_count": 16,
     "metadata": {},
     "output_type": "execute_result"
    }
   ],
   "source": [
    "chicago.POSTED_SPEED_LIMIT.value_counts()"
   ]
  },
  {
   "cell_type": "code",
   "execution_count": 17,
   "metadata": {},
   "outputs": [
    {
     "data": {
      "text/plain": [
       "CRASH_DATE                        0.000000\n",
       "POSTED_SPEED_LIMIT                0.000000\n",
       "TRAFFIC_CONTROL_DEVICE            0.000000\n",
       "DEVICE_CONDITION                  0.000000\n",
       "WEATHER_CONDITION                 0.000000\n",
       "LIGHTING_CONDITION                0.000000\n",
       "FIRST_CRASH_TYPE                  0.000000\n",
       "TRAFFICWAY_TYPE                   0.000000\n",
       "ALIGNMENT                         0.000000\n",
       "ROADWAY_SURFACE_COND              0.000000\n",
       "ROAD_DEFECT                       0.000000\n",
       "CRASH_TYPE                        0.000000\n",
       "INTERSECTION_RELATED_I           78.038739\n",
       "NOT_RIGHT_OF_WAY_I               95.374475\n",
       "HIT_AND_RUN_I                    72.275616\n",
       "DAMAGE                            0.000000\n",
       "PRIM_CONTRIBUTORY_CAUSE           0.000000\n",
       "SEC_CONTRIBUTORY_CAUSE            0.000000\n",
       "STREET_NO                         0.000000\n",
       "STREET_DIRECTION                  0.000559\n",
       "STREET_NAME                       0.000279\n",
       "BEAT_OF_OCCURRENCE                0.001117\n",
       "DOORING_I                        99.655341\n",
       "NUM_UNITS                         0.352759\n",
       "MOST_SEVERE_INJURY                0.554694\n",
       "INJURIES_TOTAL                    0.552739\n",
       "INJURIES_FATAL                    0.552739\n",
       "INJURIES_INCAPACITATING           0.552739\n",
       "INJURIES_NON_INCAPACITATING       0.552739\n",
       "INJURIES_REPORTED_NOT_EVIDENT     0.552739\n",
       "INJURIES_NO_INDICATION            0.552739\n",
       "CRASH_HOUR                        0.000000\n",
       "CRASH_DAY_OF_WEEK                 0.000000\n",
       "CRASH_MONTH                       0.000000\n",
       "dtype: float64"
      ]
     },
     "execution_count": 17,
     "metadata": {},
     "output_type": "execute_result"
    }
   ],
   "source": [
    "chicago.isnull().sum()*100/chicago.isnull().count()"
   ]
  },
  {
   "cell_type": "code",
   "execution_count": 18,
   "metadata": {},
   "outputs": [],
   "source": [
    "chicago.DOORING_I.replace(np.nan, 'N', inplace=True) \n",
    "chicago.HIT_AND_RUN_I.replace(np.nan, 'N', inplace=True) \n",
    "chicago.INTERSECTION_RELATED_I.replace(np.nan, 'N', inplace=True)\n",
    "chicago.NOT_RIGHT_OF_WAY_I.replace(np.nan, 'N', inplace=True)\n",
    "chicago.HIT_AND_RUN_I.replace(np.nan, 'N', inplace=True)\n",
    "chicago.INJURIES_FATAL.replace(np.nan, 0, inplace=True)\n",
    "chicago.INJURIES_TOTAL.replace(np.nan, 0, inplace=True)\n",
    "chicago.INJURIES_INCAPACITATING.replace(np.nan, 0, inplace=True)\n",
    "chicago.INJURIES_NON_INCAPACITATING.replace(np.nan, 0, inplace=True)\n",
    "chicago.INJURIES_REPORTED_NOT_EVIDENT.replace(np.nan, 0, inplace=True)\n",
    "chicago.INJURIES_NO_INDICATION.replace(np.nan, 0, inplace=True)\n",
    "chicago.NUM_UNITS.replace(np.nan, 0, inplace=True)"
   ]
  },
  {
   "cell_type": "markdown",
   "metadata": {},
   "source": [
    "## Now that data has been cleaned and features have been dropped, I added:\n",
    "\n",
    "**IS FATAL** - Will tell the readers if a specific crash led to a fatality, this is a binary feature\n",
    "\n",
    "**IS COSTLY** - Accidents that cost over $1,500 are considered **Costly**, and this binary feature will be our **Target Variable** .  \n",
    "\n",
    "The ration of Costly:Not Costly is 56:44, so the class is fairly **balanced**"
   ]
  },
  {
   "cell_type": "code",
   "execution_count": null,
   "metadata": {},
   "outputs": [],
   "source": [
    "#chicago.INJURIES_FATAL.unique()\n",
    "\n",
    "# SVM Classifier.  \n",
    "#Fatal or Not?  column.  \n",
    "\n",
    "chicago[\"IS_FATAL\"] = np.where(chicago.INJURIES_FATAL > 0, 1, 0)\n",
    "\n",
    "chicago[\"IS_COSTLY\"] = np.where(chicago.DAMAGE != 'OVER $1,500', 0, 1 )"
   ]
  },
  {
   "cell_type": "code",
   "execution_count": null,
   "metadata": {},
   "outputs": [
    {
     "data": {
      "text/html": [
       "<div>\n",
       "<style scoped>\n",
       "    .dataframe tbody tr th:only-of-type {\n",
       "        vertical-align: middle;\n",
       "    }\n",
       "\n",
       "    .dataframe tbody tr th {\n",
       "        vertical-align: top;\n",
       "    }\n",
       "\n",
       "    .dataframe thead th {\n",
       "        text-align: right;\n",
       "    }\n",
       "</style>\n",
       "<table border=\"1\" class=\"dataframe\">\n",
       "  <thead>\n",
       "    <tr style=\"text-align: right;\">\n",
       "      <th></th>\n",
       "      <th>CRASH_DATE</th>\n",
       "      <th>POSTED_SPEED_LIMIT</th>\n",
       "      <th>TRAFFIC_CONTROL_DEVICE</th>\n",
       "      <th>DEVICE_CONDITION</th>\n",
       "      <th>WEATHER_CONDITION</th>\n",
       "      <th>LIGHTING_CONDITION</th>\n",
       "      <th>FIRST_CRASH_TYPE</th>\n",
       "      <th>TRAFFICWAY_TYPE</th>\n",
       "      <th>ALIGNMENT</th>\n",
       "      <th>ROADWAY_SURFACE_COND</th>\n",
       "      <th>ROAD_DEFECT</th>\n",
       "      <th>CRASH_TYPE</th>\n",
       "      <th>INTERSECTION_RELATED_I</th>\n",
       "      <th>NOT_RIGHT_OF_WAY_I</th>\n",
       "      <th>HIT_AND_RUN_I</th>\n",
       "      <th>DAMAGE</th>\n",
       "      <th>PRIM_CONTRIBUTORY_CAUSE</th>\n",
       "      <th>SEC_CONTRIBUTORY_CAUSE</th>\n",
       "      <th>STREET_NO</th>\n",
       "      <th>STREET_DIRECTION</th>\n",
       "      <th>STREET_NAME</th>\n",
       "      <th>BEAT_OF_OCCURRENCE</th>\n",
       "      <th>DOORING_I</th>\n",
       "      <th>NUM_UNITS</th>\n",
       "      <th>MOST_SEVERE_INJURY</th>\n",
       "      <th>INJURIES_TOTAL</th>\n",
       "      <th>INJURIES_FATAL</th>\n",
       "      <th>INJURIES_INCAPACITATING</th>\n",
       "      <th>INJURIES_NON_INCAPACITATING</th>\n",
       "      <th>INJURIES_REPORTED_NOT_EVIDENT</th>\n",
       "      <th>INJURIES_NO_INDICATION</th>\n",
       "      <th>CRASH_HOUR</th>\n",
       "      <th>CRASH_DAY_OF_WEEK</th>\n",
       "      <th>CRASH_MONTH</th>\n",
       "      <th>IS_FATAL</th>\n",
       "      <th>IS_COSTLY</th>\n",
       "    </tr>\n",
       "  </thead>\n",
       "  <tbody>\n",
       "    <tr>\n",
       "      <th>0</th>\n",
       "      <td>7/4/2019 22:33</td>\n",
       "      <td>45</td>\n",
       "      <td>NO CONTROLS</td>\n",
       "      <td>NO CONTROLS</td>\n",
       "      <td>CLEAR</td>\n",
       "      <td>DARKNESS, LIGHTED ROAD</td>\n",
       "      <td>REAR END</td>\n",
       "      <td>DIVIDED - W/MEDIAN BARRIER</td>\n",
       "      <td>STRAIGHT AND LEVEL</td>\n",
       "      <td>DRY</td>\n",
       "      <td>NO DEFECTS</td>\n",
       "      <td>NO INJURY / DRIVE AWAY</td>\n",
       "      <td>N</td>\n",
       "      <td>N</td>\n",
       "      <td>N</td>\n",
       "      <td>OVER $1,500</td>\n",
       "      <td>FOLLOWING TOO CLOSELY</td>\n",
       "      <td>NOT APPLICABLE</td>\n",
       "      <td>300</td>\n",
       "      <td>N</td>\n",
       "      <td>LAKE SHORE DR SB</td>\n",
       "      <td>114.0</td>\n",
       "      <td>N</td>\n",
       "      <td>0.0</td>\n",
       "      <td>NaN</td>\n",
       "      <td>0.0</td>\n",
       "      <td>0.0</td>\n",
       "      <td>0.0</td>\n",
       "      <td>0.0</td>\n",
       "      <td>0.0</td>\n",
       "      <td>0.0</td>\n",
       "      <td>22</td>\n",
       "      <td>5</td>\n",
       "      <td>7</td>\n",
       "      <td>0</td>\n",
       "      <td>1</td>\n",
       "    </tr>\n",
       "    <tr>\n",
       "      <th>1</th>\n",
       "      <td>7/30/2019 10:22</td>\n",
       "      <td>30</td>\n",
       "      <td>NO CONTROLS</td>\n",
       "      <td>NO CONTROLS</td>\n",
       "      <td>CLEAR</td>\n",
       "      <td>DAYLIGHT</td>\n",
       "      <td>TURNING</td>\n",
       "      <td>DIVIDED - W/MEDIAN (NOT RAISED)</td>\n",
       "      <td>STRAIGHT AND LEVEL</td>\n",
       "      <td>DRY</td>\n",
       "      <td>NO DEFECTS</td>\n",
       "      <td>NO INJURY / DRIVE AWAY</td>\n",
       "      <td>N</td>\n",
       "      <td>N</td>\n",
       "      <td>N</td>\n",
       "      <td>OVER $1,500</td>\n",
       "      <td>FAILING TO YIELD RIGHT-OF-WAY</td>\n",
       "      <td>IMPROPER TURNING/NO SIGNAL</td>\n",
       "      <td>8201</td>\n",
       "      <td>S</td>\n",
       "      <td>DR MARTIN LUTHER KING JR DR</td>\n",
       "      <td>631.0</td>\n",
       "      <td>N</td>\n",
       "      <td>0.0</td>\n",
       "      <td>NaN</td>\n",
       "      <td>0.0</td>\n",
       "      <td>0.0</td>\n",
       "      <td>0.0</td>\n",
       "      <td>0.0</td>\n",
       "      <td>0.0</td>\n",
       "      <td>0.0</td>\n",
       "      <td>10</td>\n",
       "      <td>3</td>\n",
       "      <td>7</td>\n",
       "      <td>0</td>\n",
       "      <td>1</td>\n",
       "    </tr>\n",
       "    <tr>\n",
       "      <th>2</th>\n",
       "      <td>8/10/2019 17:00</td>\n",
       "      <td>25</td>\n",
       "      <td>NO CONTROLS</td>\n",
       "      <td>NO CONTROLS</td>\n",
       "      <td>CLEAR</td>\n",
       "      <td>DAYLIGHT</td>\n",
       "      <td>PARKED MOTOR VEHICLE</td>\n",
       "      <td>ONE-WAY</td>\n",
       "      <td>STRAIGHT AND LEVEL</td>\n",
       "      <td>DRY</td>\n",
       "      <td>NO DEFECTS</td>\n",
       "      <td>NO INJURY / DRIVE AWAY</td>\n",
       "      <td>N</td>\n",
       "      <td>N</td>\n",
       "      <td>N</td>\n",
       "      <td>$501 - $1,500</td>\n",
       "      <td>EQUIPMENT - VEHICLE CONDITION</td>\n",
       "      <td>NOT APPLICABLE</td>\n",
       "      <td>6747</td>\n",
       "      <td>S</td>\n",
       "      <td>CREGIER AVE</td>\n",
       "      <td>332.0</td>\n",
       "      <td>N</td>\n",
       "      <td>1.0</td>\n",
       "      <td>NaN</td>\n",
       "      <td>0.0</td>\n",
       "      <td>0.0</td>\n",
       "      <td>0.0</td>\n",
       "      <td>0.0</td>\n",
       "      <td>0.0</td>\n",
       "      <td>0.0</td>\n",
       "      <td>17</td>\n",
       "      <td>7</td>\n",
       "      <td>8</td>\n",
       "      <td>0</td>\n",
       "      <td>0</td>\n",
       "    </tr>\n",
       "    <tr>\n",
       "      <th>3</th>\n",
       "      <td>8/16/2019 16:53</td>\n",
       "      <td>30</td>\n",
       "      <td>NO CONTROLS</td>\n",
       "      <td>NO CONTROLS</td>\n",
       "      <td>CLEAR</td>\n",
       "      <td>DAYLIGHT</td>\n",
       "      <td>PARKED MOTOR VEHICLE</td>\n",
       "      <td>NOT DIVIDED</td>\n",
       "      <td>STRAIGHT AND LEVEL</td>\n",
       "      <td>DRY</td>\n",
       "      <td>NO DEFECTS</td>\n",
       "      <td>NO INJURY / DRIVE AWAY</td>\n",
       "      <td>N</td>\n",
       "      <td>N</td>\n",
       "      <td>Y</td>\n",
       "      <td>$501 - $1,500</td>\n",
       "      <td>UNABLE TO DETERMINE</td>\n",
       "      <td>NOT APPLICABLE</td>\n",
       "      <td>554</td>\n",
       "      <td>N</td>\n",
       "      <td>FRANKLIN ST</td>\n",
       "      <td>1831.0</td>\n",
       "      <td>N</td>\n",
       "      <td>1.0</td>\n",
       "      <td>NO INDICATION OF INJURY</td>\n",
       "      <td>0.0</td>\n",
       "      <td>0.0</td>\n",
       "      <td>0.0</td>\n",
       "      <td>0.0</td>\n",
       "      <td>0.0</td>\n",
       "      <td>1.0</td>\n",
       "      <td>16</td>\n",
       "      <td>6</td>\n",
       "      <td>8</td>\n",
       "      <td>0</td>\n",
       "      <td>0</td>\n",
       "    </tr>\n",
       "    <tr>\n",
       "      <th>4</th>\n",
       "      <td>8/17/2019 16:04</td>\n",
       "      <td>30</td>\n",
       "      <td>NO CONTROLS</td>\n",
       "      <td>NO CONTROLS</td>\n",
       "      <td>CLEAR</td>\n",
       "      <td>DAYLIGHT</td>\n",
       "      <td>PARKED MOTOR VEHICLE</td>\n",
       "      <td>PARKING LOT</td>\n",
       "      <td>STRAIGHT AND LEVEL</td>\n",
       "      <td>DRY</td>\n",
       "      <td>NO DEFECTS</td>\n",
       "      <td>NO INJURY / DRIVE AWAY</td>\n",
       "      <td>N</td>\n",
       "      <td>N</td>\n",
       "      <td>Y</td>\n",
       "      <td>$501 - $1,500</td>\n",
       "      <td>UNABLE TO DETERMINE</td>\n",
       "      <td>UNABLE TO DETERMINE</td>\n",
       "      <td>3700</td>\n",
       "      <td>N</td>\n",
       "      <td>WESTERN AVE</td>\n",
       "      <td>1921.0</td>\n",
       "      <td>N</td>\n",
       "      <td>1.0</td>\n",
       "      <td>NO INDICATION OF INJURY</td>\n",
       "      <td>0.0</td>\n",
       "      <td>0.0</td>\n",
       "      <td>0.0</td>\n",
       "      <td>0.0</td>\n",
       "      <td>0.0</td>\n",
       "      <td>1.0</td>\n",
       "      <td>16</td>\n",
       "      <td>7</td>\n",
       "      <td>8</td>\n",
       "      <td>0</td>\n",
       "      <td>0</td>\n",
       "    </tr>\n",
       "  </tbody>\n",
       "</table>\n",
       "</div>"
      ],
      "text/plain": [
       "        CRASH_DATE  POSTED_SPEED_LIMIT TRAFFIC_CONTROL_DEVICE  \\\n",
       "0   7/4/2019 22:33                  45            NO CONTROLS   \n",
       "1  7/30/2019 10:22                  30            NO CONTROLS   \n",
       "2  8/10/2019 17:00                  25            NO CONTROLS   \n",
       "3  8/16/2019 16:53                  30            NO CONTROLS   \n",
       "4  8/17/2019 16:04                  30            NO CONTROLS   \n",
       "\n",
       "  DEVICE_CONDITION WEATHER_CONDITION      LIGHTING_CONDITION  \\\n",
       "0      NO CONTROLS             CLEAR  DARKNESS, LIGHTED ROAD   \n",
       "1      NO CONTROLS             CLEAR                DAYLIGHT   \n",
       "2      NO CONTROLS             CLEAR                DAYLIGHT   \n",
       "3      NO CONTROLS             CLEAR                DAYLIGHT   \n",
       "4      NO CONTROLS             CLEAR                DAYLIGHT   \n",
       "\n",
       "       FIRST_CRASH_TYPE                  TRAFFICWAY_TYPE           ALIGNMENT  \\\n",
       "0              REAR END       DIVIDED - W/MEDIAN BARRIER  STRAIGHT AND LEVEL   \n",
       "1               TURNING  DIVIDED - W/MEDIAN (NOT RAISED)  STRAIGHT AND LEVEL   \n",
       "2  PARKED MOTOR VEHICLE                          ONE-WAY  STRAIGHT AND LEVEL   \n",
       "3  PARKED MOTOR VEHICLE                      NOT DIVIDED  STRAIGHT AND LEVEL   \n",
       "4  PARKED MOTOR VEHICLE                      PARKING LOT  STRAIGHT AND LEVEL   \n",
       "\n",
       "  ROADWAY_SURFACE_COND ROAD_DEFECT              CRASH_TYPE  \\\n",
       "0                  DRY  NO DEFECTS  NO INJURY / DRIVE AWAY   \n",
       "1                  DRY  NO DEFECTS  NO INJURY / DRIVE AWAY   \n",
       "2                  DRY  NO DEFECTS  NO INJURY / DRIVE AWAY   \n",
       "3                  DRY  NO DEFECTS  NO INJURY / DRIVE AWAY   \n",
       "4                  DRY  NO DEFECTS  NO INJURY / DRIVE AWAY   \n",
       "\n",
       "  INTERSECTION_RELATED_I NOT_RIGHT_OF_WAY_I HIT_AND_RUN_I         DAMAGE  \\\n",
       "0                      N                  N             N    OVER $1,500   \n",
       "1                      N                  N             N    OVER $1,500   \n",
       "2                      N                  N             N  $501 - $1,500   \n",
       "3                      N                  N             Y  $501 - $1,500   \n",
       "4                      N                  N             Y  $501 - $1,500   \n",
       "\n",
       "         PRIM_CONTRIBUTORY_CAUSE      SEC_CONTRIBUTORY_CAUSE  STREET_NO  \\\n",
       "0          FOLLOWING TOO CLOSELY              NOT APPLICABLE        300   \n",
       "1  FAILING TO YIELD RIGHT-OF-WAY  IMPROPER TURNING/NO SIGNAL       8201   \n",
       "2  EQUIPMENT - VEHICLE CONDITION              NOT APPLICABLE       6747   \n",
       "3            UNABLE TO DETERMINE              NOT APPLICABLE        554   \n",
       "4            UNABLE TO DETERMINE         UNABLE TO DETERMINE       3700   \n",
       "\n",
       "  STREET_DIRECTION                  STREET_NAME  BEAT_OF_OCCURRENCE DOORING_I  \\\n",
       "0                N             LAKE SHORE DR SB               114.0         N   \n",
       "1                S  DR MARTIN LUTHER KING JR DR               631.0         N   \n",
       "2                S                  CREGIER AVE               332.0         N   \n",
       "3                N                  FRANKLIN ST              1831.0         N   \n",
       "4                N                  WESTERN AVE              1921.0         N   \n",
       "\n",
       "   NUM_UNITS       MOST_SEVERE_INJURY  INJURIES_TOTAL  INJURIES_FATAL  \\\n",
       "0        0.0                      NaN             0.0             0.0   \n",
       "1        0.0                      NaN             0.0             0.0   \n",
       "2        1.0                      NaN             0.0             0.0   \n",
       "3        1.0  NO INDICATION OF INJURY             0.0             0.0   \n",
       "4        1.0  NO INDICATION OF INJURY             0.0             0.0   \n",
       "\n",
       "   INJURIES_INCAPACITATING  INJURIES_NON_INCAPACITATING  \\\n",
       "0                      0.0                          0.0   \n",
       "1                      0.0                          0.0   \n",
       "2                      0.0                          0.0   \n",
       "3                      0.0                          0.0   \n",
       "4                      0.0                          0.0   \n",
       "\n",
       "   INJURIES_REPORTED_NOT_EVIDENT  INJURIES_NO_INDICATION  CRASH_HOUR  \\\n",
       "0                            0.0                     0.0          22   \n",
       "1                            0.0                     0.0          10   \n",
       "2                            0.0                     0.0          17   \n",
       "3                            0.0                     1.0          16   \n",
       "4                            0.0                     1.0          16   \n",
       "\n",
       "   CRASH_DAY_OF_WEEK  CRASH_MONTH  IS_FATAL  IS_COSTLY  \n",
       "0                  5            7         0          1  \n",
       "1                  3            7         0          1  \n",
       "2                  7            8         0          0  \n",
       "3                  6            8         0          0  \n",
       "4                  7            8         0          0  "
      ]
     },
     "execution_count": 20,
     "metadata": {},
     "output_type": "execute_result"
    }
   ],
   "source": [
    "chicago.head()"
   ]
  },
  {
   "cell_type": "code",
   "execution_count": null,
   "metadata": {},
   "outputs": [
    {
     "data": {
      "text/plain": [
       "CRASH_DATE                       0.000000\n",
       "POSTED_SPEED_LIMIT               0.000000\n",
       "TRAFFIC_CONTROL_DEVICE           0.000000\n",
       "DEVICE_CONDITION                 0.000000\n",
       "WEATHER_CONDITION                0.000000\n",
       "LIGHTING_CONDITION               0.000000\n",
       "FIRST_CRASH_TYPE                 0.000000\n",
       "TRAFFICWAY_TYPE                  0.000000\n",
       "ALIGNMENT                        0.000000\n",
       "ROADWAY_SURFACE_COND             0.000000\n",
       "ROAD_DEFECT                      0.000000\n",
       "CRASH_TYPE                       0.000000\n",
       "INTERSECTION_RELATED_I           0.000000\n",
       "NOT_RIGHT_OF_WAY_I               0.000000\n",
       "HIT_AND_RUN_I                    0.000000\n",
       "DAMAGE                           0.000000\n",
       "PRIM_CONTRIBUTORY_CAUSE          0.000000\n",
       "SEC_CONTRIBUTORY_CAUSE           0.000000\n",
       "STREET_NO                        0.000000\n",
       "STREET_DIRECTION                 0.000559\n",
       "STREET_NAME                      0.000279\n",
       "BEAT_OF_OCCURRENCE               0.001117\n",
       "DOORING_I                        0.000000\n",
       "NUM_UNITS                        0.000000\n",
       "MOST_SEVERE_INJURY               0.554694\n",
       "INJURIES_TOTAL                   0.000000\n",
       "INJURIES_FATAL                   0.000000\n",
       "INJURIES_INCAPACITATING          0.000000\n",
       "INJURIES_NON_INCAPACITATING      0.000000\n",
       "INJURIES_REPORTED_NOT_EVIDENT    0.000000\n",
       "INJURIES_NO_INDICATION           0.000000\n",
       "CRASH_HOUR                       0.000000\n",
       "CRASH_DAY_OF_WEEK                0.000000\n",
       "CRASH_MONTH                      0.000000\n",
       "IS_FATAL                         0.000000\n",
       "IS_COSTLY                        0.000000\n",
       "dtype: float64"
      ]
     },
     "execution_count": 21,
     "metadata": {},
     "output_type": "execute_result"
    }
   ],
   "source": [
    "#Note the improvement in NaN value reduction\n",
    "chicago.isnull().sum()*100/chicago.isnull().count()"
   ]
  },
  {
   "cell_type": "code",
   "execution_count": null,
   "metadata": {},
   "outputs": [
    {
     "data": {
      "text/plain": [
       "10    38004\n",
       "9     34946\n",
       "8     32640\n",
       "7     30982\n",
       "5     30262\n",
       "6     30254\n",
       "11    29749\n",
       "12    27546\n",
       "3     27016\n",
       "4     26942\n",
       "1     25742\n",
       "2     23952\n",
       "Name: CRASH_MONTH, dtype: int64"
      ]
     },
     "execution_count": 22,
     "metadata": {},
     "output_type": "execute_result"
    }
   ],
   "source": [
    "#chicago.DAMAGE.value_counts()\n",
    "chicago.CRASH_MONTH.value_counts()"
   ]
  },
  {
   "cell_type": "markdown",
   "metadata": {},
   "source": [
    "\n",
    "# Third: Model your outcome of interest. You should try several different approaches and really work to tune a variety of models before using the model evaluation techniques to choose what you consider to be the best performer. Make sure to think about explanatory versus predictive power and experiment with both."
   ]
  },
  {
   "cell_type": "code",
   "execution_count": null,
   "metadata": {},
   "outputs": [],
   "source": [
    "##What models should I consider? Start with Naive Bayes since I'm only doing classification\n",
    "\n",
    "#Model evaluation techniques? \n",
    "#confusion matrix, precision, recall, false positives, true negatives, \n",
    "\n",
    "#What is explanatory vs predictive?\n",
    "#Predict if an accident is costly or not\n",
    "#Explain what contributing factors most likely lead to a costly accident, which categorical deata. \n"
   ]
  },
  {
   "cell_type": "markdown",
   "metadata": {},
   "source": [
    "Next, in order to prepare for your presentation, create a slide deck and 15 minute presentation that guides viewers through your model. Be sure to cover a few specific things:\n",
    "\n",
    "A specified research question your model addresses\n",
    "How you chose your model specification and what alternatives you compared it to\n",
    "The practical uses of your model for an audience of interest\n",
    "Any weak points or shortcomings of your model"
   ]
  },
  {
   "cell_type": "code",
   "execution_count": null,
   "metadata": {},
   "outputs": [],
   "source": []
  },
  {
   "cell_type": "code",
   "execution_count": null,
   "metadata": {},
   "outputs": [],
   "source": []
  },
  {
   "cell_type": "code",
   "execution_count": null,
   "metadata": {},
   "outputs": [],
   "source": []
  },
  {
   "cell_type": "markdown",
   "metadata": {},
   "source": [
    "### I chose to get dummy values for the features below:\n",
    "1. CRASH_TYPE\n",
    "2. FIRST_CRASH_TYPE\n",
    "\n",
    "\n",
    "### These features are considered \"costly\" and could provide value for the model\n",
    "\n",
    "### Also, I created dummy values (simple change of Y/N to 1/0 for:\n",
    "1. INTERSECTION_RELATED_I\n",
    "2. NOT_RIGHT_OF_WAY_I\n",
    "3. HIT_AND_RUN_1\n",
    "\n",
    "# I may decide to drop them from the dataset as well\n",
    "\n",
    "## First do a crosstab to determine correlation"
   ]
  },
  {
   "cell_type": "code",
   "execution_count": null,
   "metadata": {},
   "outputs": [
    {
     "data": {
      "text/html": [
       "<div>\n",
       "<style scoped>\n",
       "    .dataframe tbody tr th:only-of-type {\n",
       "        vertical-align: middle;\n",
       "    }\n",
       "\n",
       "    .dataframe tbody tr th {\n",
       "        vertical-align: top;\n",
       "    }\n",
       "\n",
       "    .dataframe thead th {\n",
       "        text-align: right;\n",
       "    }\n",
       "</style>\n",
       "<table border=\"1\" class=\"dataframe\">\n",
       "  <thead>\n",
       "    <tr style=\"text-align: right;\">\n",
       "      <th>INTERSECTION_RELATED_I</th>\n",
       "      <th>N</th>\n",
       "      <th>Y</th>\n",
       "      <th>All</th>\n",
       "    </tr>\n",
       "    <tr>\n",
       "      <th>IS_COSTLY</th>\n",
       "      <th></th>\n",
       "      <th></th>\n",
       "      <th></th>\n",
       "    </tr>\n",
       "  </thead>\n",
       "  <tbody>\n",
       "    <tr>\n",
       "      <th>0</th>\n",
       "      <td>129417</td>\n",
       "      <td>27270</td>\n",
       "      <td>156687</td>\n",
       "    </tr>\n",
       "    <tr>\n",
       "      <th>1</th>\n",
       "      <td>153675</td>\n",
       "      <td>47673</td>\n",
       "      <td>201348</td>\n",
       "    </tr>\n",
       "    <tr>\n",
       "      <th>All</th>\n",
       "      <td>283092</td>\n",
       "      <td>74943</td>\n",
       "      <td>358035</td>\n",
       "    </tr>\n",
       "  </tbody>\n",
       "</table>\n",
       "</div>"
      ],
      "text/plain": [
       "INTERSECTION_RELATED_I       N      Y     All\n",
       "IS_COSTLY                                    \n",
       "0                       129417  27270  156687\n",
       "1                       153675  47673  201348\n",
       "All                     283092  74943  358035"
      ]
     },
     "execution_count": 24,
     "metadata": {},
     "output_type": "execute_result"
    }
   ],
   "source": [
    "#count_table = pd.crosstab(student_df[\"gender\"], student_df[\"race/ethnicity\"]) count_table\n",
    "\n",
    "pd.crosstab(chicago.IS_COSTLY, [chicago.INTERSECTION_RELATED_I], margins=True)\n",
    "            #chicago.NOT_RIGHT_OF_WAY_I, chicago.HIT_AND_RUN_I])\n",
    "    #CHECK RATIO 27270/156687:47673/201348  "
   ]
  },
  {
   "cell_type": "code",
   "execution_count": null,
   "metadata": {},
   "outputs": [
    {
     "data": {
      "text/plain": [
       "0.23676917575540854"
      ]
     },
     "execution_count": 25,
     "metadata": {},
     "output_type": "execute_result"
    }
   ],
   "source": [
    "27270/156687, \n",
    "47673/201348"
   ]
  },
  {
   "cell_type": "code",
   "execution_count": null,
   "metadata": {},
   "outputs": [
    {
     "data": {
      "text/html": [
       "<div>\n",
       "<style scoped>\n",
       "    .dataframe tbody tr th:only-of-type {\n",
       "        vertical-align: middle;\n",
       "    }\n",
       "\n",
       "    .dataframe tbody tr th {\n",
       "        vertical-align: top;\n",
       "    }\n",
       "\n",
       "    .dataframe thead th {\n",
       "        text-align: right;\n",
       "    }\n",
       "</style>\n",
       "<table border=\"1\" class=\"dataframe\">\n",
       "  <thead>\n",
       "    <tr style=\"text-align: right;\">\n",
       "      <th>NOT_RIGHT_OF_WAY_I</th>\n",
       "      <th>N</th>\n",
       "      <th>Y</th>\n",
       "      <th>All</th>\n",
       "    </tr>\n",
       "    <tr>\n",
       "      <th>IS_COSTLY</th>\n",
       "      <th></th>\n",
       "      <th></th>\n",
       "      <th></th>\n",
       "    </tr>\n",
       "  </thead>\n",
       "  <tbody>\n",
       "    <tr>\n",
       "      <th>0</th>\n",
       "      <td>149815</td>\n",
       "      <td>6872</td>\n",
       "      <td>156687</td>\n",
       "    </tr>\n",
       "    <tr>\n",
       "      <th>1</th>\n",
       "      <td>193070</td>\n",
       "      <td>8278</td>\n",
       "      <td>201348</td>\n",
       "    </tr>\n",
       "    <tr>\n",
       "      <th>All</th>\n",
       "      <td>342885</td>\n",
       "      <td>15150</td>\n",
       "      <td>358035</td>\n",
       "    </tr>\n",
       "  </tbody>\n",
       "</table>\n",
       "</div>"
      ],
      "text/plain": [
       "NOT_RIGHT_OF_WAY_I       N      Y     All\n",
       "IS_COSTLY                                \n",
       "0                   149815   6872  156687\n",
       "1                   193070   8278  201348\n",
       "All                 342885  15150  358035"
      ]
     },
     "execution_count": 26,
     "metadata": {},
     "output_type": "execute_result"
    }
   ],
   "source": [
    "pd.crosstab(chicago.IS_COSTLY, [chicago.NOT_RIGHT_OF_WAY_I], margins=True)\n",
    "#TOO LOW OF CORRELATION, DROP\n",
    "#6872/156687 IS SIMILAR TO 8278/201348, HENCE IT'S NOT TOO RELATED, SO NOT VALUABLE, WILL DROP NOT_RIGHT_OF_WAY_I\n",
    "\n"
   ]
  },
  {
   "cell_type": "code",
   "execution_count": null,
   "metadata": {},
   "outputs": [
    {
     "data": {
      "text/html": [
       "<div>\n",
       "<style scoped>\n",
       "    .dataframe tbody tr th:only-of-type {\n",
       "        vertical-align: middle;\n",
       "    }\n",
       "\n",
       "    .dataframe tbody tr th {\n",
       "        vertical-align: top;\n",
       "    }\n",
       "\n",
       "    .dataframe thead th {\n",
       "        text-align: right;\n",
       "    }\n",
       "</style>\n",
       "<table border=\"1\" class=\"dataframe\">\n",
       "  <thead>\n",
       "    <tr style=\"text-align: right;\">\n",
       "      <th>HIT_AND_RUN_I</th>\n",
       "      <th>N</th>\n",
       "      <th>Y</th>\n",
       "      <th>All</th>\n",
       "    </tr>\n",
       "    <tr>\n",
       "      <th>IS_COSTLY</th>\n",
       "      <th></th>\n",
       "      <th></th>\n",
       "      <th></th>\n",
       "    </tr>\n",
       "  </thead>\n",
       "  <tbody>\n",
       "    <tr>\n",
       "      <th>0</th>\n",
       "      <td>113840</td>\n",
       "      <td>42847</td>\n",
       "      <td>156687</td>\n",
       "    </tr>\n",
       "    <tr>\n",
       "      <th>1</th>\n",
       "      <td>149234</td>\n",
       "      <td>52114</td>\n",
       "      <td>201348</td>\n",
       "    </tr>\n",
       "    <tr>\n",
       "      <th>All</th>\n",
       "      <td>263074</td>\n",
       "      <td>94961</td>\n",
       "      <td>358035</td>\n",
       "    </tr>\n",
       "  </tbody>\n",
       "</table>\n",
       "</div>"
      ],
      "text/plain": [
       "HIT_AND_RUN_I       N      Y     All\n",
       "IS_COSTLY                           \n",
       "0              113840  42847  156687\n",
       "1              149234  52114  201348\n",
       "All            263074  94961  358035"
      ]
     },
     "execution_count": 27,
     "metadata": {},
     "output_type": "execute_result"
    }
   ],
   "source": [
    "pd.crosstab(chicago.IS_COSTLY, [chicago.HIT_AND_RUN_I], margins=True)"
   ]
  },
  {
   "cell_type": "code",
   "execution_count": null,
   "metadata": {},
   "outputs": [],
   "source": [
    "chicago.INTERSECTION_RELATED_I.replace('Y', 1, inplace=True)\n",
    "chicago.INTERSECTION_RELATED_I.replace('N', 0, inplace=True)\n",
    "chicago.NOT_RIGHT_OF_WAY_I.replace('Y', 1, inplace=True)\n",
    "chicago.NOT_RIGHT_OF_WAY_I.replace('N', 0, inplace=True)\n",
    "chicago.HIT_AND_RUN_I.replace('Y', 1, inplace=True)\n",
    "chicago.HIT_AND_RUN_I.replace('N', 0, inplace=True)"
   ]
  },
  {
   "cell_type": "code",
   "execution_count": null,
   "metadata": {},
   "outputs": [],
   "source": []
  },
  {
   "cell_type": "code",
   "execution_count": null,
   "metadata": {},
   "outputs": [],
   "source": []
  },
  {
   "cell_type": "code",
   "execution_count": null,
   "metadata": {},
   "outputs": [],
   "source": []
  },
  {
   "cell_type": "code",
   "execution_count": null,
   "metadata": {},
   "outputs": [],
   "source": [
    "from sklearn.preprocessing import LabelEncoder, OneHotEncoder"
   ]
  },
  {
   "cell_type": "code",
   "execution_count": null,
   "metadata": {},
   "outputs": [],
   "source": [
    "#ohe = OneHotEncoder(categorical_features = [4])"
   ]
  },
  {
   "cell_type": "code",
   "execution_count": null,
   "metadata": {},
   "outputs": [],
   "source": [
    "first_crash_type_dummies = pd.get_dummies(chicago.FIRST_CRASH_TYPE, prefix = 'FIRST_CRASH_TYPE_')"
   ]
  },
  {
   "cell_type": "code",
   "execution_count": null,
   "metadata": {},
   "outputs": [
    {
     "data": {
      "text/plain": [
       "array(['REAR END', 'TURNING', 'PARKED MOTOR VEHICLE', 'FIXED OBJECT',\n",
       "       'SIDESWIPE SAME DIRECTION', 'HEAD ON', 'REAR TO FRONT', 'ANGLE',\n",
       "       'SIDESWIPE OPPOSITE DIRECTION', 'PEDALCYCLIST', 'PEDESTRIAN',\n",
       "       'REAR TO SIDE', 'OVERTURNED', 'OTHER OBJECT', 'ANIMAL',\n",
       "       'REAR TO REAR', 'OTHER NONCOLLISION', 'TRAIN'], dtype=object)"
      ]
     },
     "execution_count": 32,
     "metadata": {},
     "output_type": "execute_result"
    }
   ],
   "source": [
    "chicago.FIRST_CRASH_TYPE.unique()"
   ]
  },
  {
   "cell_type": "code",
   "execution_count": null,
   "metadata": {},
   "outputs": [],
   "source": [
    "crash_type_dummies = pd.get_dummies(chicago.CRASH_TYPE, prefix = 'CRASH_TYPE_')"
   ]
  },
  {
   "cell_type": "code",
   "execution_count": null,
   "metadata": {},
   "outputs": [
    {
     "data": {
      "text/html": [
       "<div>\n",
       "<style scoped>\n",
       "    .dataframe tbody tr th:only-of-type {\n",
       "        vertical-align: middle;\n",
       "    }\n",
       "\n",
       "    .dataframe tbody tr th {\n",
       "        vertical-align: top;\n",
       "    }\n",
       "\n",
       "    .dataframe thead th {\n",
       "        text-align: right;\n",
       "    }\n",
       "</style>\n",
       "<table border=\"1\" class=\"dataframe\">\n",
       "  <thead>\n",
       "    <tr style=\"text-align: right;\">\n",
       "      <th></th>\n",
       "      <th>CRASH_TYPE__INJURY AND / OR TOW DUE TO CRASH</th>\n",
       "      <th>CRASH_TYPE__NO INJURY / DRIVE AWAY</th>\n",
       "    </tr>\n",
       "  </thead>\n",
       "  <tbody>\n",
       "    <tr>\n",
       "      <th>0</th>\n",
       "      <td>0</td>\n",
       "      <td>1</td>\n",
       "    </tr>\n",
       "  </tbody>\n",
       "</table>\n",
       "</div>"
      ],
      "text/plain": [
       "   CRASH_TYPE__INJURY AND / OR TOW DUE TO CRASH  \\\n",
       "0                                             0   \n",
       "\n",
       "   CRASH_TYPE__NO INJURY / DRIVE AWAY  \n",
       "0                                   1  "
      ]
     },
     "execution_count": 34,
     "metadata": {},
     "output_type": "execute_result"
    }
   ],
   "source": [
    "crash_type_dummies.head(1)"
   ]
  },
  {
   "cell_type": "code",
   "execution_count": null,
   "metadata": {},
   "outputs": [],
   "source": []
  },
  {
   "cell_type": "code",
   "execution_count": null,
   "metadata": {},
   "outputs": [],
   "source": [
    "chicago_final = pd.concat([chicago, first_crash_type_dummies, crash_type_dummies], axis = 1)"
   ]
  },
  {
   "cell_type": "code",
   "execution_count": null,
   "metadata": {},
   "outputs": [
    {
     "data": {
      "text/plain": [
       "Index(['CRASH_DATE', 'POSTED_SPEED_LIMIT', 'TRAFFIC_CONTROL_DEVICE',\n",
       "       'DEVICE_CONDITION', 'WEATHER_CONDITION', 'LIGHTING_CONDITION',\n",
       "       'FIRST_CRASH_TYPE', 'TRAFFICWAY_TYPE', 'ALIGNMENT',\n",
       "       'ROADWAY_SURFACE_COND', 'ROAD_DEFECT', 'CRASH_TYPE',\n",
       "       'INTERSECTION_RELATED_I', 'NOT_RIGHT_OF_WAY_I', 'HIT_AND_RUN_I',\n",
       "       'DAMAGE', 'PRIM_CONTRIBUTORY_CAUSE', 'SEC_CONTRIBUTORY_CAUSE',\n",
       "       'STREET_NO', 'STREET_DIRECTION', 'STREET_NAME', 'BEAT_OF_OCCURRENCE',\n",
       "       'DOORING_I', 'NUM_UNITS', 'MOST_SEVERE_INJURY', 'INJURIES_TOTAL',\n",
       "       'INJURIES_FATAL', 'INJURIES_INCAPACITATING',\n",
       "       'INJURIES_NON_INCAPACITATING', 'INJURIES_REPORTED_NOT_EVIDENT',\n",
       "       'INJURIES_NO_INDICATION', 'CRASH_HOUR', 'CRASH_DAY_OF_WEEK',\n",
       "       'CRASH_MONTH', 'IS_FATAL', 'IS_COSTLY', 'FIRST_CRASH_TYPE__ANGLE',\n",
       "       'FIRST_CRASH_TYPE__ANIMAL', 'FIRST_CRASH_TYPE__FIXED OBJECT',\n",
       "       'FIRST_CRASH_TYPE__HEAD ON', 'FIRST_CRASH_TYPE__OTHER NONCOLLISION',\n",
       "       'FIRST_CRASH_TYPE__OTHER OBJECT', 'FIRST_CRASH_TYPE__OVERTURNED',\n",
       "       'FIRST_CRASH_TYPE__PARKED MOTOR VEHICLE',\n",
       "       'FIRST_CRASH_TYPE__PEDALCYCLIST', 'FIRST_CRASH_TYPE__PEDESTRIAN',\n",
       "       'FIRST_CRASH_TYPE__REAR END', 'FIRST_CRASH_TYPE__REAR TO FRONT',\n",
       "       'FIRST_CRASH_TYPE__REAR TO REAR', 'FIRST_CRASH_TYPE__REAR TO SIDE',\n",
       "       'FIRST_CRASH_TYPE__SIDESWIPE OPPOSITE DIRECTION',\n",
       "       'FIRST_CRASH_TYPE__SIDESWIPE SAME DIRECTION', 'FIRST_CRASH_TYPE__TRAIN',\n",
       "       'FIRST_CRASH_TYPE__TURNING',\n",
       "       'CRASH_TYPE__INJURY AND / OR TOW DUE TO CRASH',\n",
       "       'CRASH_TYPE__NO INJURY / DRIVE AWAY'],\n",
       "      dtype='object')"
      ]
     },
     "execution_count": 36,
     "metadata": {},
     "output_type": "execute_result"
    }
   ],
   "source": [
    "chicago_final.columns"
   ]
  },
  {
   "cell_type": "code",
   "execution_count": null,
   "metadata": {},
   "outputs": [],
   "source": [
    "chicago_final = chicago_final.drop(['CRASH_DATE','TRAFFIC_CONTROL_DEVICE',\n",
    "       'DEVICE_CONDITION', 'WEATHER_CONDITION', 'LIGHTING_CONDITION',\n",
    "       'FIRST_CRASH_TYPE', 'TRAFFICWAY_TYPE', 'ALIGNMENT',\n",
    "       'ROADWAY_SURFACE_COND', 'ROAD_DEFECT', 'CRASH_TYPE','DAMAGE', 'PRIM_CONTRIBUTORY_CAUSE', 'SEC_CONTRIBUTORY_CAUSE',\n",
    "       'STREET_NO', 'STREET_DIRECTION', 'STREET_NAME', 'BEAT_OF_OCCURRENCE',\n",
    "       'DOORING_I','MOST_SEVERE_INJURY', 'INJURIES_TOTAL',\n",
    "       'INJURIES_FATAL', 'INJURIES_INCAPACITATING',\n",
    "       'INJURIES_NON_INCAPACITATING', 'INJURIES_REPORTED_NOT_EVIDENT', 'INJURIES_NO_INDICATION', 'CRASH_HOUR', 'CRASH_DAY_OF_WEEK',\n",
    "       'CRASH_MONTH'],axis = 1)"
   ]
  },
  {
   "cell_type": "code",
   "execution_count": null,
   "metadata": {},
   "outputs": [
    {
     "name": "stdout",
     "output_type": "stream",
     "text": [
      "<class 'pandas.core.frame.DataFrame'>\n",
      "RangeIndex: 358035 entries, 0 to 358034\n",
      "Data columns (total 27 columns):\n",
      "POSTED_SPEED_LIMIT                                358035 non-null int64\n",
      "INTERSECTION_RELATED_I                            358035 non-null int64\n",
      "NOT_RIGHT_OF_WAY_I                                358035 non-null int64\n",
      "HIT_AND_RUN_I                                     358035 non-null int64\n",
      "NUM_UNITS                                         358035 non-null float64\n",
      "IS_FATAL                                          358035 non-null int32\n",
      "IS_COSTLY                                         358035 non-null int32\n",
      "FIRST_CRASH_TYPE__ANGLE                           358035 non-null uint8\n",
      "FIRST_CRASH_TYPE__ANIMAL                          358035 non-null uint8\n",
      "FIRST_CRASH_TYPE__FIXED OBJECT                    358035 non-null uint8\n",
      "FIRST_CRASH_TYPE__HEAD ON                         358035 non-null uint8\n",
      "FIRST_CRASH_TYPE__OTHER NONCOLLISION              358035 non-null uint8\n",
      "FIRST_CRASH_TYPE__OTHER OBJECT                    358035 non-null uint8\n",
      "FIRST_CRASH_TYPE__OVERTURNED                      358035 non-null uint8\n",
      "FIRST_CRASH_TYPE__PARKED MOTOR VEHICLE            358035 non-null uint8\n",
      "FIRST_CRASH_TYPE__PEDALCYCLIST                    358035 non-null uint8\n",
      "FIRST_CRASH_TYPE__PEDESTRIAN                      358035 non-null uint8\n",
      "FIRST_CRASH_TYPE__REAR END                        358035 non-null uint8\n",
      "FIRST_CRASH_TYPE__REAR TO FRONT                   358035 non-null uint8\n",
      "FIRST_CRASH_TYPE__REAR TO REAR                    358035 non-null uint8\n",
      "FIRST_CRASH_TYPE__REAR TO SIDE                    358035 non-null uint8\n",
      "FIRST_CRASH_TYPE__SIDESWIPE OPPOSITE DIRECTION    358035 non-null uint8\n",
      "FIRST_CRASH_TYPE__SIDESWIPE SAME DIRECTION        358035 non-null uint8\n",
      "FIRST_CRASH_TYPE__TRAIN                           358035 non-null uint8\n",
      "FIRST_CRASH_TYPE__TURNING                         358035 non-null uint8\n",
      "CRASH_TYPE__INJURY AND / OR TOW DUE TO CRASH      358035 non-null uint8\n",
      "CRASH_TYPE__NO INJURY / DRIVE AWAY                358035 non-null uint8\n",
      "dtypes: float64(1), int32(2), int64(4), uint8(20)\n",
      "memory usage: 23.2 MB\n"
     ]
    }
   ],
   "source": [
    "chicago_final.info()"
   ]
  },
  {
   "cell_type": "code",
   "execution_count": null,
   "metadata": {},
   "outputs": [
    {
     "data": {
      "text/plain": [
       "0    357745\n",
       "1       290\n",
       "Name: IS_FATAL, dtype: int64"
      ]
     },
     "execution_count": 39,
     "metadata": {},
     "output_type": "execute_result"
    }
   ],
   "source": [
    "chicago.IS_FATAL.value_counts()"
   ]
  },
  {
   "cell_type": "code",
   "execution_count": null,
   "metadata": {},
   "outputs": [],
   "source": [
    "X = chicago_final.copy()\n",
    "y = chicago_final.IS_COSTLY\n",
    "X = X.drop(['IS_COSTLY'],axis=1)"
   ]
  },
  {
   "cell_type": "code",
   "execution_count": null,
   "metadata": {},
   "outputs": [],
   "source": []
  },
  {
   "cell_type": "code",
   "execution_count": null,
   "metadata": {},
   "outputs": [],
   "source": [
    "from sklearn.model_selection import train_test_split\n",
    "\n",
    "X_train, X_test, y_train, y_test = train_test_split(X, y, random_state=99)  #Set to 75:25 automatically by default"
   ]
  },
  {
   "cell_type": "markdown",
   "metadata": {},
   "source": [
    "# Now that I have my training data with dummies, I can implement over \n",
    "1. Naive Bayes\n",
    "2. KNN\n",
    "3. Decision Tree\n",
    "4. SVM"
   ]
  },
  {
   "cell_type": "markdown",
   "metadata": {},
   "source": [
    "# For classification, start with Naive Bayes\n",
    "\n",
    "\n"
   ]
  },
  {
   "cell_type": "code",
   "execution_count": null,
   "metadata": {},
   "outputs": [],
   "source": [
    "from sklearn.naive_bayes import BernoulliNB\n",
    "from sklearn.metrics import confusion_matrix\n"
   ]
  },
  {
   "cell_type": "code",
   "execution_count": null,
   "metadata": {},
   "outputs": [],
   "source": []
  },
  {
   "cell_type": "code",
   "execution_count": null,
   "metadata": {},
   "outputs": [
    {
     "name": "stdout",
     "output_type": "stream",
     "text": [
      "Predicted Value: [0 0 1 ... 0 1 0]\n"
     ]
    }
   ],
   "source": [
    "# Instantiate our model and store it in a new variable.\n",
    "bnb = BernoulliNB()\n",
    "\n",
    "# Fit our model to the data.\n",
    "bnb.fit(X_train, y_train)\n",
    "\n",
    "predicted = bnb.predict(X_test)\n",
    "print(\"Predicted Value:\", predicted)"
   ]
  },
  {
   "cell_type": "markdown",
   "metadata": {},
   "source": [
    "### Now split the data"
   ]
  },
  {
   "cell_type": "code",
   "execution_count": null,
   "metadata": {},
   "outputs": [
    {
     "data": {
      "text/plain": [
       "array([0.58604253, 0.58609839, 0.58272042, 0.58506657, 0.58708849])"
      ]
     },
     "execution_count": 44,
     "metadata": {},
     "output_type": "execute_result"
    }
   ],
   "source": [
    "from sklearn.model_selection import cross_val_score\n",
    "from sklearn.model_selection import train_test_split\n",
    "from sklearn import metrics\n",
    "# Split dataset into training set and test set\n",
    "cross_val_score(bnb, X_train, y_train, cv=5)"
   ]
  },
  {
   "cell_type": "code",
   "execution_count": null,
   "metadata": {},
   "outputs": [],
   "source": []
  },
  {
   "cell_type": "code",
   "execution_count": null,
   "metadata": {},
   "outputs": [],
   "source": [
    "from sklearn.naive_bayes import MultinomialNB\n",
    "naive_bayes = MultinomialNB()\n",
    "naive_bayes.fit(X_train, y_train)\n",
    "predictions = naive_bayes.predict(X_test)"
   ]
  },
  {
   "cell_type": "code",
   "execution_count": null,
   "metadata": {},
   "outputs": [
    {
     "name": "stdout",
     "output_type": "stream",
     "text": [
      "Accuracy score: 0.5901082572702187\n",
      "Precision score: 0.6683163465307722\n",
      "Recall score: 0.540918915703266\n"
     ]
    }
   ],
   "source": [
    "from sklearn.metrics import accuracy_score, precision_score, recall_score\n",
    "print('Accuracy score:' , accuracy_score(y_test, predictions))\n",
    "print('Precision score:' , precision_score(y_test, predictions))\n",
    "print('Recall score:' , recall_score(y_test, predictions))"
   ]
  },
  {
   "cell_type": "code",
   "execution_count": null,
   "metadata": {},
   "outputs": [
    {
     "data": {
      "text/plain": [
       "Text(91.68, 0.5, 'predicted label')"
      ]
     },
     "execution_count": 47,
     "metadata": {},
     "output_type": "execute_result"
    },
    {
     "data": {
      "image/png": "[encoded data removed]",
      "text/plain": [
       "<Figure size 432x288 with 1 Axes>"
      ]
     },
     "metadata": {
      "needs_background": "light"
     },
     "output_type": "display_data"
    }
   ],
   "source": [
    "from sklearn.metrics import confusion_matrix\n",
    "import matplotlib.pyplot as plt\n",
    "import seaborn as sns\n",
    "cm = confusion_matrix(y_test, predictions)\n",
    "sns.heatmap(cm, square=True, annot=True, cmap='RdBu', cbar=False,\n",
    "xticklabels=['Costly', 'Not Costly'], yticklabels=['Costly', 'Not Costly'])\n",
    "plt.xlabel('true label')\n",
    "plt.ylabel('predicted label')"
   ]
  },
  {
   "cell_type": "code",
   "execution_count": null,
   "metadata": {},
   "outputs": [
    {
     "data": {
      "text/plain": [
       "array([[25542, 13538],\n",
       "       [23151, 27278]], dtype=int64)"
      ]
     },
     "execution_count": 48,
     "metadata": {},
     "output_type": "execute_result"
    }
   ],
   "source": [
    "confusion_matrix(y_test, predictions)\n",
    "\n",
    "#TRUE POSITIVES LOWER RIGHT\n",
    "#TRUE NEGATIVES UPPER LEFT 12038\n",
    "#FALSE POSITIVE UPPER RIGHT\n",
    "#FALSE NEGATIVE LOWER LEFT"
   ]
  },
  {
   "cell_type": "markdown",
   "metadata": {},
   "source": [
    "# K Nearest Neighbors Classifiers\n"
   ]
  },
  {
   "cell_type": "code",
   "execution_count": null,
   "metadata": {},
   "outputs": [],
   "source": [
    "from sklearn.neighbors import KNeighborsClassifier"
   ]
  },
  {
   "cell_type": "code",
   "execution_count": null,
   "metadata": {},
   "outputs": [
    {
     "data": {
      "text/plain": [
       "KNeighborsClassifier(algorithm='auto', leaf_size=30, metric='minkowski',\n",
       "           metric_params=None, n_jobs=None, n_neighbors=5, p=2,\n",
       "           weights='uniform')"
      ]
     },
     "execution_count": 50,
     "metadata": {},
     "output_type": "execute_result"
    }
   ],
   "source": [
    "neighbors = KNeighborsClassifier(n_neighbors=5)\n",
    "\n",
    "neighbors.fit(X_train,y_train)"
   ]
  },
  {
   "cell_type": "markdown",
   "metadata": {},
   "source": [
    "### Play with parameters for KNN, try out n_neighbors = 3 instead"
   ]
  },
  {
   "cell_type": "code",
   "execution_count": null,
   "metadata": {},
   "outputs": [],
   "source": [
    "neighbors.predict(X_test)"
   ]
  },
  {
   "cell_type": "code",
   "execution_count": null,
   "metadata": {},
   "outputs": [],
   "source": [
    "#Do a train test split\n",
    "from sklearn.neighbors import KNeighborsClassifier\n",
    "from sklearn.model_selection import train_test_split\n",
    "#split dataset into train and test data\n",
    "#X_train, X_test, y_train, y_test = train_test_split(X, y, test_size=0.2, random_state=1, stratify=y)\n",
    "# Create KNN classifier\n",
    "#knn = KNeighborsClassifier(n_neighbors = 3)\n",
    "# Fit the classifier to the data\n",
    "#knn.fit(X_train,y_train)\n",
    "\n",
    "#https://towardsdatascience.com/building-a-k-nearest-neighbors-k-nn-model-with-scikit-learn-51209555453a\n",
    "#chicago.shape\n",
    "\n",
    "# Create KNN classifier\n",
    "#knn = KNeighborsClassifier(n_neighbors = 3)\n",
    "# Fit the classifier to the data\n",
    "#knn.fit(X_train,y_train)\n",
    "\n",
    "#show first 5 model predictions on the test data\n",
    "#knn.predict(X_test)[0:5]"
   ]
  },
  {
   "cell_type": "code",
   "execution_count": null,
   "metadata": {},
   "outputs": [],
   "source": [
    "#check accuracy of our model on the test data\n",
    "knn.score(X_test, y_test)"
   ]
  },
  {
   "cell_type": "code",
   "execution_count": null,
   "metadata": {},
   "outputs": [],
   "source": [
    "#create a new KNN model\n",
    "knn_cv = KNeighborsClassifier(n_neighbors=3)\n",
    "#train model with cv of 5 \n",
    "cv_scores = cross_val_score(knn_cv, X_train, y_train, cv=5)\n",
    "#print each cv score (accuracy) and average them\n",
    "print(cv_scores)\n",
    "print(np.mean(cv_scores))"
   ]
  },
  {
   "cell_type": "markdown",
   "metadata": {},
   "source": [
    "# Decision Tree\n",
    "\n",
    "## Build a baseline model decision tree to compare scores"
   ]
  },
  {
   "cell_type": "code",
   "execution_count": null,
   "metadata": {},
   "outputs": [],
   "source": [
    "from sklearn import tree\n",
    "\n",
    "# A convenience for displaying visualizations.\n",
    "from IPython.display import Image\n",
    "\n",
    "# Packages for rendering our tree.\n",
    "import pydotplus\n",
    "import graphviz"
   ]
  },
  {
   "cell_type": "code",
   "execution_count": null,
   "metadata": {
    "scrolled": true
   },
   "outputs": [],
   "source": [
    "# Initialize and train our tree.\n",
    "decision_tree = tree.DecisionTreeClassifier(\n",
    "    criterion='entropy',\n",
    "    max_features=6,\n",
    "    max_depth=5,\n",
    "    random_state = 99\n",
    ")\n",
    "\n",
    "\n",
    "decision_tree.fit(X_train,y_train)\n",
    "\n"
   ]
  },
  {
   "cell_type": "code",
   "execution_count": null,
   "metadata": {},
   "outputs": [],
   "source": [
    "#decision_tree.predict([[60,9,1,1,0,0,0,0,1]])\n",
    "\n",
    "#decision_tree.predict([[60,9,1,1,0,0,0,0,0]])\n",
    "\n"
   ]
  },
  {
   "cell_type": "code",
   "execution_count": null,
   "metadata": {},
   "outputs": [],
   "source": [
    "predictions = decision_tree.predict(X_test)"
   ]
  },
  {
   "cell_type": "code",
   "execution_count": null,
   "metadata": {},
   "outputs": [],
   "source": [
    "\n",
    "print('Accuracy score:' , accuracy_score(y_test, predictions))\n",
    "print('Precision score:' , precision_score(y_test, predictions))\n",
    "print('Recall score:' , recall_score(y_test, predictions))"
   ]
  },
  {
   "cell_type": "code",
   "execution_count": null,
   "metadata": {},
   "outputs": [],
   "source": []
  },
  {
   "cell_type": "code",
   "execution_count": null,
   "metadata": {},
   "outputs": [],
   "source": [
    "decision_tree.classes_"
   ]
  },
  {
   "cell_type": "code",
   "execution_count": null,
   "metadata": {},
   "outputs": [],
   "source": [
    "# Render our tree.\n",
    "dot_data = tree.export_graphviz(\n",
    "    decision_tree, \n",
    "    out_file=None,\n",
    "    feature_names = X.columns,    \n",
    "    class_names= [\"Not Costly\",\"Costly\"],\n",
    "    filled=True,\n",
    ")\n",
    "graph = pydotplus.graph_from_dot_data(dot_data)\n",
    "Image(graph.create_png())"
   ]
  },
  {
   "cell_type": "markdown",
   "metadata": {},
   "source": [
    "# Random Forest "
   ]
  },
  {
   "cell_type": "code",
   "execution_count": null,
   "metadata": {},
   "outputs": [],
   "source": [
    "chicago"
   ]
  },
  {
   "cell_type": "code",
   "execution_count": null,
   "metadata": {},
   "outputs": [],
   "source": []
  }
 ],
 "metadata": {
  "kernelspec": {
   "display_name": "Python 3",
   "language": "python",
   "name": "python3"
  },
  "language_info": {
   "codemirror_mode": {
    "name": "ipython",
    "version": 3
   },
   "file_extension": ".py",
   "mimetype": "text/x-python",
   "name": "python",
   "nbconvert_exporter": "python",
   "pygments_lexer": "ipython3",
   "version": "3.7.1"
  }
 },
 "nbformat": 4,
 "nbformat_minor": 2
}
